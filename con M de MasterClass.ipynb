{
 "cells": [
  {
   "cell_type": "markdown",
   "id": "a7fe626a",
   "metadata": {},
   "source": [
    "# Con M de MasterClass\n",
    "\n",
    "### Python\n",
    "\n",
    "\n",
    "https://docs.python.org/3/\n",
    "\n",
    "![python](images/python.png)\n",
    "\n",
    "$$$$\n",
    "\n",
    "Python es un lenguaje de programación interpretado cuya filosofía hace hincapié en la legibilidad de su código. Se trata de un lenguaje de programación multiparadigma, ya que soporta parcialmente la orientación a objetos, programación imperativa y, en menor medida, programación funcional. Es un lenguaje interpretado, dinámico y multiplataforma.\n",
    "\n",
    "Es administrado por la Python Software Foundation. Posee una licencia de código abierto, denominada Python Software Foundation License."
   ]
  },
  {
   "cell_type": "code",
   "execution_count": 1,
   "id": "99137faa",
   "metadata": {},
   "outputs": [
    {
     "name": "stdout",
     "output_type": "stream",
     "text": [
      "The Zen of Python, by Tim Peters\n",
      "\n",
      "Beautiful is better than ugly.\n",
      "Explicit is better than implicit.\n",
      "Simple is better than complex.\n",
      "Complex is better than complicated.\n",
      "Flat is better than nested.\n",
      "Sparse is better than dense.\n",
      "Readability counts.\n",
      "Special cases aren't special enough to break the rules.\n",
      "Although practicality beats purity.\n",
      "Errors should never pass silently.\n",
      "Unless explicitly silenced.\n",
      "In the face of ambiguity, refuse the temptation to guess.\n",
      "There should be one-- and preferably only one --obvious way to do it.\n",
      "Although that way may not be obvious at first unless you're Dutch.\n",
      "Now is better than never.\n",
      "Although never is often better than *right* now.\n",
      "If the implementation is hard to explain, it's a bad idea.\n",
      "If the implementation is easy to explain, it may be a good idea.\n",
      "Namespaces are one honking great idea -- let's do more of those!\n"
     ]
    }
   ],
   "source": [
    "import this"
   ]
  },
  {
   "cell_type": "code",
   "execution_count": 2,
   "id": "24132002",
   "metadata": {},
   "outputs": [],
   "source": [
    "# numeros\n",
    "\n",
    "edad=38"
   ]
  },
  {
   "cell_type": "code",
   "execution_count": 3,
   "id": "791f560d",
   "metadata": {},
   "outputs": [
    {
     "name": "stdout",
     "output_type": "stream",
     "text": [
      "38\n"
     ]
    }
   ],
   "source": [
    "print(edad)"
   ]
  },
  {
   "cell_type": "code",
   "execution_count": 4,
   "id": "a942b22e",
   "metadata": {},
   "outputs": [
    {
     "data": {
      "text/plain": [
       "int"
      ]
     },
     "execution_count": 4,
     "metadata": {},
     "output_type": "execute_result"
    }
   ],
   "source": [
    "type(edad)"
   ]
  },
  {
   "cell_type": "code",
   "execution_count": 5,
   "id": "5cafea47",
   "metadata": {},
   "outputs": [
    {
     "data": {
      "text/plain": [
       "float"
      ]
     },
     "execution_count": 5,
     "metadata": {},
     "output_type": "execute_result"
    }
   ],
   "source": [
    "type(4.7)"
   ]
  },
  {
   "cell_type": "code",
   "execution_count": 6,
   "id": "ff0de9df",
   "metadata": {},
   "outputs": [
    {
     "data": {
      "text/plain": [
       "complex"
      ]
     },
     "execution_count": 6,
     "metadata": {},
     "output_type": "execute_result"
    }
   ],
   "source": [
    "type(3 + 5j)"
   ]
  },
  {
   "cell_type": "code",
   "execution_count": 7,
   "id": "4dfd2eb2",
   "metadata": {},
   "outputs": [
    {
     "data": {
      "text/plain": [
       "32"
      ]
     },
     "execution_count": 7,
     "metadata": {},
     "output_type": "execute_result"
    }
   ],
   "source": [
    "# operaciones basicas\n",
    "\n",
    "23+9"
   ]
  },
  {
   "cell_type": "code",
   "execution_count": 8,
   "id": "d0a06580",
   "metadata": {},
   "outputs": [
    {
     "data": {
      "text/plain": [
       "127"
      ]
     },
     "execution_count": 8,
     "metadata": {},
     "output_type": "execute_result"
    }
   ],
   "source": [
    "edad + 89"
   ]
  },
  {
   "cell_type": "code",
   "execution_count": 9,
   "id": "abf9fba9",
   "metadata": {},
   "outputs": [
    {
     "data": {
      "text/plain": [
       "-3"
      ]
     },
     "execution_count": 9,
     "metadata": {},
     "output_type": "execute_result"
    }
   ],
   "source": [
    "3-6"
   ]
  },
  {
   "cell_type": "code",
   "execution_count": 10,
   "id": "cbbcb8bd",
   "metadata": {},
   "outputs": [
    {
     "data": {
      "text/plain": [
       "0.5"
      ]
     },
     "execution_count": 10,
     "metadata": {},
     "output_type": "execute_result"
    }
   ],
   "source": [
    "3/6"
   ]
  },
  {
   "cell_type": "code",
   "execution_count": 11,
   "id": "67b59f56",
   "metadata": {},
   "outputs": [
    {
     "data": {
      "text/plain": [
       "2"
      ]
     },
     "execution_count": 11,
     "metadata": {},
     "output_type": "execute_result"
    }
   ],
   "source": [
    "12//5"
   ]
  },
  {
   "cell_type": "code",
   "execution_count": 12,
   "id": "12365c85",
   "metadata": {},
   "outputs": [
    {
     "data": {
      "text/plain": [
       "12"
      ]
     },
     "execution_count": 12,
     "metadata": {},
     "output_type": "execute_result"
    }
   ],
   "source": [
    "3*4"
   ]
  },
  {
   "cell_type": "code",
   "execution_count": 13,
   "id": "48b1a93c",
   "metadata": {},
   "outputs": [
    {
     "data": {
      "text/plain": [
       "8"
      ]
     },
     "execution_count": 13,
     "metadata": {},
     "output_type": "execute_result"
    }
   ],
   "source": [
    "2**3"
   ]
  },
  {
   "cell_type": "code",
   "execution_count": 14,
   "id": "9bb1b200",
   "metadata": {},
   "outputs": [],
   "source": [
    "# strings - cadenas de caracteres\n",
    "\n",
    "saludo=\"!hola que tal gente\""
   ]
  },
  {
   "cell_type": "code",
   "execution_count": 15,
   "id": "d4c829b6",
   "metadata": {},
   "outputs": [
    {
     "data": {
      "text/plain": [
       "'!hola que tal gente'"
      ]
     },
     "execution_count": 15,
     "metadata": {},
     "output_type": "execute_result"
    }
   ],
   "source": [
    "saludo"
   ]
  },
  {
   "cell_type": "code",
   "execution_count": 16,
   "id": "eefce9f7",
   "metadata": {},
   "outputs": [
    {
     "data": {
      "text/plain": [
       "str"
      ]
     },
     "execution_count": 16,
     "metadata": {},
     "output_type": "execute_result"
    }
   ],
   "source": [
    "type(saludo)"
   ]
  },
  {
   "cell_type": "code",
   "execution_count": 17,
   "id": "b77b6ff7",
   "metadata": {},
   "outputs": [
    {
     "data": {
      "text/plain": [
       "'!hola que tal gente...aqui estamos alegre'"
      ]
     },
     "execution_count": 17,
     "metadata": {},
     "output_type": "execute_result"
    }
   ],
   "source": [
    "saludo + '...aqui estamos alegre'"
   ]
  },
  {
   "cell_type": "code",
   "execution_count": 18,
   "id": "1934e6b3",
   "metadata": {},
   "outputs": [
    {
     "data": {
      "text/plain": [
       "'!hola que tal gente2'"
      ]
     },
     "execution_count": 18,
     "metadata": {},
     "output_type": "execute_result"
    }
   ],
   "source": [
    "saludo + '2'"
   ]
  },
  {
   "cell_type": "code",
   "execution_count": 19,
   "id": "ccad16d0",
   "metadata": {},
   "outputs": [
    {
     "data": {
      "text/plain": [
       "'!hola que tal gente!hola que tal gente'"
      ]
     },
     "execution_count": 19,
     "metadata": {},
     "output_type": "execute_result"
    }
   ],
   "source": [
    "saludo * 2"
   ]
  },
  {
   "cell_type": "code",
   "execution_count": 20,
   "id": "31a774bc",
   "metadata": {},
   "outputs": [
    {
     "data": {
      "text/plain": [
       "[1, 2, 3, 4, 3.4]"
      ]
     },
     "execution_count": 20,
     "metadata": {},
     "output_type": "execute_result"
    }
   ],
   "source": [
    "# listas\n",
    "\n",
    "lst=[1, 2, 3, 4, 3.4]\n",
    "\n",
    "lst"
   ]
  },
  {
   "cell_type": "code",
   "execution_count": 21,
   "id": "445d4c1d",
   "metadata": {},
   "outputs": [
    {
     "data": {
      "text/plain": [
       "list"
      ]
     },
     "execution_count": 21,
     "metadata": {},
     "output_type": "execute_result"
    }
   ],
   "source": [
    "type(lst)"
   ]
  },
  {
   "cell_type": "code",
   "execution_count": 22,
   "id": "eb6b8cbd",
   "metadata": {},
   "outputs": [
    {
     "data": {
      "text/plain": [
       "5"
      ]
     },
     "execution_count": 22,
     "metadata": {},
     "output_type": "execute_result"
    }
   ],
   "source": [
    "len(lst)"
   ]
  },
  {
   "cell_type": "code",
   "execution_count": 23,
   "id": "10f65d9d",
   "metadata": {},
   "outputs": [
    {
     "data": {
      "text/plain": [
       "4"
      ]
     },
     "execution_count": 23,
     "metadata": {},
     "output_type": "execute_result"
    }
   ],
   "source": [
    "max(lst)"
   ]
  },
  {
   "cell_type": "code",
   "execution_count": 24,
   "id": "43492ddf",
   "metadata": {},
   "outputs": [
    {
     "data": {
      "text/plain": [
       "1"
      ]
     },
     "execution_count": 24,
     "metadata": {},
     "output_type": "execute_result"
    }
   ],
   "source": [
    "min(lst)"
   ]
  },
  {
   "cell_type": "code",
   "execution_count": 25,
   "id": "1d4923b5",
   "metadata": {},
   "outputs": [
    {
     "data": {
      "text/plain": [
       "True"
      ]
     },
     "execution_count": 25,
     "metadata": {},
     "output_type": "execute_result"
    }
   ],
   "source": [
    "1 in lst"
   ]
  },
  {
   "cell_type": "code",
   "execution_count": 26,
   "id": "e9dc2f22",
   "metadata": {},
   "outputs": [
    {
     "data": {
      "text/plain": [
       "bool"
      ]
     },
     "execution_count": 26,
     "metadata": {},
     "output_type": "execute_result"
    }
   ],
   "source": [
    "type(True)"
   ]
  },
  {
   "cell_type": "code",
   "execution_count": 27,
   "id": "7f2f0e49",
   "metadata": {},
   "outputs": [
    {
     "data": {
      "text/plain": [
       "2"
      ]
     },
     "execution_count": 27,
     "metadata": {},
     "output_type": "execute_result"
    }
   ],
   "source": [
    "lst[1]"
   ]
  },
  {
   "cell_type": "code",
   "execution_count": 28,
   "id": "d2de858e",
   "metadata": {},
   "outputs": [
    {
     "data": {
      "text/plain": [
       "[2, 4]"
      ]
     },
     "execution_count": 28,
     "metadata": {},
     "output_type": "execute_result"
    }
   ],
   "source": [
    "# slicing, acceso por indice\n",
    "\n",
    "# lst[strat:stop:step]\n",
    "\n",
    "lst[1:4:2]  # empieza en 1, acaba en 4 y recorre de 2 en 2"
   ]
  },
  {
   "cell_type": "code",
   "execution_count": 29,
   "id": "3bc50656",
   "metadata": {},
   "outputs": [
    {
     "data": {
      "text/plain": [
       "'vjv'"
      ]
     },
     "execution_count": 29,
     "metadata": {},
     "output_type": "execute_result"
    }
   ],
   "source": [
    "'jnvejnvoenqopnemcpomer'[2 : 8 : 2]# tambien en string"
   ]
  },
  {
   "cell_type": "code",
   "execution_count": 30,
   "id": "f6dce9d1",
   "metadata": {},
   "outputs": [
    {
     "name": "stdout",
     "output_type": "stream",
     "text": [
      "1\n",
      "2\n",
      "3\n",
      "4\n",
      "3.4\n"
     ]
    }
   ],
   "source": [
    "# bucle\n",
    "\n",
    "for elemento in lst:\n",
    "    print(elemento)"
   ]
  },
  {
   "cell_type": "code",
   "execution_count": 31,
   "id": "2eb1c98e",
   "metadata": {},
   "outputs": [
    {
     "name": "stdout",
     "output_type": "stream",
     "text": [
      "1\n",
      "3\n"
     ]
    }
   ],
   "source": [
    "for i in range(1, len(lst), 2):\n",
    "    print(i)"
   ]
  },
  {
   "cell_type": "code",
   "execution_count": 32,
   "id": "4dba28c6",
   "metadata": {},
   "outputs": [
    {
     "name": "stdout",
     "output_type": "stream",
     "text": [
      "0 : 1\n",
      "1 : 2\n",
      "2 : 3\n",
      "3 : 4\n",
      "4 : 3.4\n"
     ]
    }
   ],
   "source": [
    "for index, elem in enumerate(lst):\n",
    "    print (index,':',elem)"
   ]
  },
  {
   "cell_type": "code",
   "execution_count": 33,
   "id": "2806bf39",
   "metadata": {},
   "outputs": [
    {
     "name": "stdout",
     "output_type": "stream",
     "text": [
      "0\n",
      "1\n",
      "2\n",
      "3\n",
      "4\n"
     ]
    }
   ],
   "source": [
    "a=0\n",
    "\n",
    "while a<5:\n",
    "    print(a)\n",
    "    a=a+1"
   ]
  },
  {
   "cell_type": "code",
   "execution_count": 34,
   "id": "bad63dd8",
   "metadata": {},
   "outputs": [
    {
     "name": "stdout",
     "output_type": "stream",
     "text": [
      "0\n",
      "1\n",
      "1\n",
      "2\n",
      "3\n",
      "5\n",
      "8\n",
      "13\n",
      "21\n",
      "34\n",
      "55\n",
      "89\n"
     ]
    }
   ],
   "source": [
    "# fibonacci\n",
    "\n",
    "a=0\n",
    "b=1\n",
    "\n",
    "contador=0\n",
    "\n",
    "\n",
    "print(a)\n",
    "print(b)\n",
    "\n",
    "\n",
    "while contador<10:\n",
    "    \n",
    "    c=a+b\n",
    "    print(c)\n",
    "    \n",
    "    a=b\n",
    "    b=c\n",
    "    \n",
    "    contador=contador+1"
   ]
  },
  {
   "cell_type": "code",
   "execution_count": 35,
   "id": "13b9a4e5",
   "metadata": {},
   "outputs": [
    {
     "name": "stdout",
     "output_type": "stream",
     "text": [
      "menor\n"
     ]
    }
   ],
   "source": [
    "# condicionales\n",
    "\n",
    "a=-3\n",
    "\n",
    "if a==0:\n",
    "    print('A es un cerito...')\n",
    "    \n",
    "elif a<0:\n",
    "    print('menor')\n",
    "    \n",
    "elif a>0:\n",
    "    print('mayor')"
   ]
  },
  {
   "cell_type": "markdown",
   "id": "eb85a2eb",
   "metadata": {},
   "source": [
    "### Funciones\n",
    "\n",
    "![funciones](images/funciones.jpg)\n",
    "\n",
    "\n",
    "Una función es un bloque de código con un nombre asociado, que recibe cero o más argumentos como entrada, sigue una secuencia de sentencias, la cuales ejecuta una operación deseada y devuelve un valor y/o realiza una tarea, este bloque puede ser llamados cuando se necesite.\n",
    "\n",
    "El uso de funciones es un componente muy importante del paradigma de la programación llamada estructurada, y tiene varias ventajas:\n",
    "- modularización: permite segmentar un programa complejo en una serie de partes o módulos más simples, facilitando así la programación y el depurado.\n",
    "- reutilización: permite reutilizar una misma función en distintos programas.\n",
    "\n",
    "\n",
    "##### Funciones custom\n",
    "\n",
    "Funciones creadas por nosotros con un objetivo. \n",
    "\n",
    "**Consejo:** Las funciones realizan acciones, por eso se recomienda que sus nombres sean verbos.\n",
    "\n",
    "\n",
    "**Estructura:**\n",
    "\n",
    "```python\n",
    "def nombre_funcion(argumentos de entrada):\n",
    "    # los dos puntos y la indentacion implican estar en la funcion\n",
    "    realiza acciones\n",
    "    return () # devuelve cierto valor\n",
    "```"
   ]
  },
  {
   "cell_type": "code",
   "execution_count": 36,
   "id": "7e27085c",
   "metadata": {},
   "outputs": [
    {
     "name": "stdout",
     "output_type": "stream",
     "text": [
      "hola\n"
     ]
    }
   ],
   "source": [
    "print('hola')  # funcion interna"
   ]
  },
  {
   "cell_type": "code",
   "execution_count": 37,
   "id": "9b262263",
   "metadata": {},
   "outputs": [
    {
     "data": {
      "text/plain": [
       "builtin_function_or_method"
      ]
     },
     "execution_count": 37,
     "metadata": {},
     "output_type": "execute_result"
    }
   ],
   "source": [
    "type(print)"
   ]
  },
  {
   "cell_type": "code",
   "execution_count": 38,
   "id": "a901b5ab",
   "metadata": {},
   "outputs": [],
   "source": [
    "# funcion suma\n",
    "\n",
    "def sumar(a, b):\n",
    "    return a+b"
   ]
  },
  {
   "cell_type": "code",
   "execution_count": 39,
   "id": "04174c4d",
   "metadata": {},
   "outputs": [],
   "source": [
    "var=sumar(2, 4)"
   ]
  },
  {
   "cell_type": "code",
   "execution_count": 40,
   "id": "6529366e",
   "metadata": {},
   "outputs": [
    {
     "name": "stdout",
     "output_type": "stream",
     "text": [
      "6\n"
     ]
    }
   ],
   "source": [
    "print(var)"
   ]
  },
  {
   "cell_type": "code",
   "execution_count": 41,
   "id": "e2131c7c",
   "metadata": {},
   "outputs": [
    {
     "data": {
      "text/plain": [
       "int"
      ]
     },
     "execution_count": 41,
     "metadata": {},
     "output_type": "execute_result"
    }
   ],
   "source": [
    "type(var)"
   ]
  },
  {
   "cell_type": "code",
   "execution_count": 42,
   "id": "ab4fab15",
   "metadata": {},
   "outputs": [],
   "source": [
    "def sumar_2(a, b, c):\n",
    "    \n",
    "    res=[]\n",
    "    \n",
    "    suma=a+b\n",
    "    \n",
    "    for i in range(c):\n",
    "        print(i)\n",
    "        \n",
    "        res.append(c**i * suma)\n",
    "        \n",
    "    return sum(res)"
   ]
  },
  {
   "cell_type": "code",
   "execution_count": 43,
   "id": "c6fae877",
   "metadata": {},
   "outputs": [
    {
     "name": "stdout",
     "output_type": "stream",
     "text": [
      "0\n",
      "1\n",
      "2\n"
     ]
    },
    {
     "data": {
      "text/plain": [
       "91"
      ]
     },
     "execution_count": 43,
     "metadata": {},
     "output_type": "execute_result"
    }
   ],
   "source": [
    "sumar_2(3, 4, 3)"
   ]
  },
  {
   "cell_type": "markdown",
   "id": "60092ab1",
   "metadata": {},
   "source": [
    "## CodeBars"
   ]
  },
  {
   "cell_type": "code",
   "execution_count": 44,
   "id": "67988070",
   "metadata": {},
   "outputs": [
    {
     "name": "stdout",
     "output_type": "stream",
     "text": [
      "Requirement already satisfied: pandas in /Users/iudh/opt/anaconda3/envs/clase/lib/python3.8/site-packages (1.2.4)\r\n",
      "Requirement already satisfied: python-dateutil>=2.7.3 in /Users/iudh/opt/anaconda3/envs/clase/lib/python3.8/site-packages (from pandas) (2.8.1)\r\n",
      "Requirement already satisfied: pytz>=2017.3 in /Users/iudh/opt/anaconda3/envs/clase/lib/python3.8/site-packages (from pandas) (2021.3)\r\n",
      "Requirement already satisfied: numpy>=1.16.5 in /Users/iudh/opt/anaconda3/envs/clase/lib/python3.8/site-packages (from pandas) (1.20.2)\r\n",
      "Requirement already satisfied: six>=1.5 in /Users/iudh/opt/anaconda3/envs/clase/lib/python3.8/site-packages (from python-dateutil>=2.7.3->pandas) (1.16.0)\r\n"
     ]
    }
   ],
   "source": [
    "# cargar datos\n",
    "!pip install pandas"
   ]
  },
  {
   "cell_type": "code",
   "execution_count": 45,
   "id": "257e73a8",
   "metadata": {},
   "outputs": [],
   "source": [
    "import pandas as pd"
   ]
  },
  {
   "cell_type": "code",
   "execution_count": 46,
   "id": "79632eac",
   "metadata": {},
   "outputs": [
    {
     "data": {
      "text/html": [
       "<div>\n",
       "<style scoped>\n",
       "    .dataframe tbody tr th:only-of-type {\n",
       "        vertical-align: middle;\n",
       "    }\n",
       "\n",
       "    .dataframe tbody tr th {\n",
       "        vertical-align: top;\n",
       "    }\n",
       "\n",
       "    .dataframe thead th {\n",
       "        text-align: right;\n",
       "    }\n",
       "</style>\n",
       "<table border=\"1\" class=\"dataframe\">\n",
       "  <thead>\n",
       "    <tr style=\"text-align: right;\">\n",
       "      <th></th>\n",
       "      <th>_id</th>\n",
       "      <th>brand</th>\n",
       "      <th>color</th>\n",
       "      <th>size</th>\n",
       "      <th>price</th>\n",
       "      <th>URL</th>\n",
       "      <th>ean</th>\n",
       "    </tr>\n",
       "  </thead>\n",
       "  <tbody>\n",
       "    <tr>\n",
       "      <th>0</th>\n",
       "      <td>5f37c5bafd075a485e637747</td>\n",
       "      <td>MUK LUKS</td>\n",
       "      <td>Grey</td>\n",
       "      <td>10</td>\n",
       "      <td>47.0</td>\n",
       "      <td>https://i5.walmartimages.com/asr/421de5d5-3a74...</td>\n",
       "      <td>725177540363</td>\n",
       "    </tr>\n",
       "    <tr>\n",
       "      <th>1</th>\n",
       "      <td>5f37c5bafd075a485e637748</td>\n",
       "      <td>MUK LUKS</td>\n",
       "      <td>Grey</td>\n",
       "      <td>7</td>\n",
       "      <td>47.0</td>\n",
       "      <td>https://i5.walmartimages.com/asr/421de5d5-3a74...</td>\n",
       "      <td>725177540370</td>\n",
       "    </tr>\n",
       "    <tr>\n",
       "      <th>2</th>\n",
       "      <td>5f37c5bafd075a485e637749</td>\n",
       "      <td>MUK LUKS</td>\n",
       "      <td>Grey</td>\n",
       "      <td>6</td>\n",
       "      <td>47.0</td>\n",
       "      <td>https://i5.walmartimages.com/asr/421de5d5-3a74...</td>\n",
       "      <td>797776092321</td>\n",
       "    </tr>\n",
       "    <tr>\n",
       "      <th>3</th>\n",
       "      <td>5f37c5bafd075a485e63774a</td>\n",
       "      <td>MUK LUKS</td>\n",
       "      <td>Grey</td>\n",
       "      <td>9</td>\n",
       "      <td>47.0</td>\n",
       "      <td>https://i5.walmartimages.com/asr/421de5d5-3a74...</td>\n",
       "      <td>701197194311</td>\n",
       "    </tr>\n",
       "    <tr>\n",
       "      <th>4</th>\n",
       "      <td>5f37c5bafd075a485e63774b</td>\n",
       "      <td>MUK LUKS</td>\n",
       "      <td>Grey</td>\n",
       "      <td>8</td>\n",
       "      <td>47.0</td>\n",
       "      <td>https://i5.walmartimages.com/asr/421de5d5-3a74...</td>\n",
       "      <td>797776110773</td>\n",
       "    </tr>\n",
       "  </tbody>\n",
       "</table>\n",
       "</div>"
      ],
      "text/plain": [
       "                        _id     brand color size  price  \\\n",
       "0  5f37c5bafd075a485e637747  MUK LUKS  Grey   10   47.0   \n",
       "1  5f37c5bafd075a485e637748  MUK LUKS  Grey    7   47.0   \n",
       "2  5f37c5bafd075a485e637749  MUK LUKS  Grey    6   47.0   \n",
       "3  5f37c5bafd075a485e63774a  MUK LUKS  Grey    9   47.0   \n",
       "4  5f37c5bafd075a485e63774b  MUK LUKS  Grey    8   47.0   \n",
       "\n",
       "                                                 URL           ean  \n",
       "0  https://i5.walmartimages.com/asr/421de5d5-3a74...  725177540363  \n",
       "1  https://i5.walmartimages.com/asr/421de5d5-3a74...  725177540370  \n",
       "2  https://i5.walmartimages.com/asr/421de5d5-3a74...  797776092321  \n",
       "3  https://i5.walmartimages.com/asr/421de5d5-3a74...  701197194311  \n",
       "4  https://i5.walmartimages.com/asr/421de5d5-3a74...  797776110773  "
      ]
     },
     "execution_count": 46,
     "metadata": {},
     "output_type": "execute_result"
    }
   ],
   "source": [
    "data=pd.read_csv('data.csv')\n",
    "\n",
    "data.head()"
   ]
  },
  {
   "cell_type": "code",
   "execution_count": 47,
   "id": "8e0c9fe0",
   "metadata": {},
   "outputs": [
    {
     "data": {
      "text/plain": [
       "pandas.core.frame.DataFrame"
      ]
     },
     "execution_count": 47,
     "metadata": {},
     "output_type": "execute_result"
    }
   ],
   "source": [
    "type(data)"
   ]
  },
  {
   "cell_type": "code",
   "execution_count": 48,
   "id": "f3e60f27",
   "metadata": {},
   "outputs": [
    {
     "name": "stdout",
     "output_type": "stream",
     "text": [
      "<class 'pandas.core.frame.DataFrame'>\n",
      "RangeIndex: 41188 entries, 0 to 41187\n",
      "Data columns (total 7 columns):\n",
      " #   Column  Non-Null Count  Dtype  \n",
      "---  ------  --------------  -----  \n",
      " 0   _id     41188 non-null  object \n",
      " 1   brand   41188 non-null  object \n",
      " 2   color   41188 non-null  object \n",
      " 3   size    41188 non-null  object \n",
      " 4   price   41188 non-null  float64\n",
      " 5   URL     41188 non-null  object \n",
      " 6   ean     41188 non-null  int64  \n",
      "dtypes: float64(1), int64(1), object(5)\n",
      "memory usage: 2.2+ MB\n"
     ]
    }
   ],
   "source": [
    "data.info()"
   ]
  },
  {
   "cell_type": "code",
   "execution_count": 49,
   "id": "e3c84729",
   "metadata": {},
   "outputs": [
    {
     "data": {
      "image/png": "[encoded data removed]",
      "text/plain": [
       "<Figure size 1080x432 with 1 Axes>"
      ]
     },
     "metadata": {
      "needs_background": "light"
     },
     "output_type": "display_data"
    }
   ],
   "source": [
    "data.brand.value_counts().plot(kind='bar', figsize=(15, 6), rot=45);"
   ]
  },
  {
   "cell_type": "code",
   "execution_count": 50,
   "id": "3efbeaed",
   "metadata": {},
   "outputs": [
    {
     "data": {
      "image/png": "[encoded data removed]",
      "text/plain": [
       "<Figure size 1080x432 with 1 Axes>"
      ]
     },
     "metadata": {
      "needs_background": "light"
     },
     "output_type": "display_data"
    }
   ],
   "source": [
    "data[data.brand=='easy street'].color.value_counts().plot(kind='bar', figsize=(15, 6), rot=45);"
   ]
  },
  {
   "cell_type": "code",
   "execution_count": 51,
   "id": "d684fcfb",
   "metadata": {},
   "outputs": [
    {
     "data": {
      "image/png": "[encoded data removed]",
      "text/plain": [
       "<Figure size 1080x432 with 1 Axes>"
      ]
     },
     "metadata": {
      "needs_background": "light"
     },
     "output_type": "display_data"
    }
   ],
   "source": [
    "data[data.brand=='dr. scholls']['size'].value_counts().plot(kind='bar', figsize=(15, 6), rot=45);"
   ]
  },
  {
   "cell_type": "code",
   "execution_count": 52,
   "id": "ecdc721c",
   "metadata": {},
   "outputs": [
    {
     "data": {
      "text/html": [
       "<img src=\"https://i5.walmartimages.com/asr/53c04329-c04e-47a6-8630-ef88d02305ab_1.f58f737921feff8e00ab6e5fba897b0d.jpeg?odnHeight=450&odnWidth=450&odnBg=FFFFFF,https://target.scene7.com/is/image/Target/GUEST_9e9f75aa-84b8-4397-aab3-afc6ef486edc,https://i5.walmartimages.com/asr/47d9cc7e-0259-4b6a-be75-772d75400c2d_1.3bf4a48072b2c5ab83fe08cb21c695a2.jpeg?odnHeight=450&odnWidth=450&odnBg=FFFFFF,https://i5.walmartimages.com/asr/c2ad9e8e-fd0d-43d6-98cb-592c830431fa_1.020a3c8c70862bb457cd90576a2bc444.jpeg?odnHeight=450&odnWidth=450&odnBg=FFFFFF,https://i5.walmartimages.com/asr/8cb99c21-c62f-4b7c-9277-eaef090082a7_1.bdd88bdb6f1f20be2b79177a196cfa19.jpeg?odnHeight=450&odnWidth=450&odnBg=FFFFFF,https://target.scene7.com/is/image/Target/GUEST_51786cc2-bf76-49a0-bb2d-98d46553e8c0,https://media.kohlsimg.com/is/image/kohls/1780800_Burgundy?wid=50&hei=50&op_sharpen=1,https://i5.walmartimages.com/asr/7d2ec9ab-defd-4626-b267-126f760014fa_1.eb68246430ab7254ff3e7a569d9a8274.jpeg?odnHeight=450&odnWidth=450&odnBg=FFFFFF,https://target.scene7.com/is/image/Target/GUEST_0af014a2-9af6-4128-afef-0a4ed14d2579,https://target.scene7.com/is/image/Target/GUEST_348f7cd2-51c3-403e-9fa0-ea519f1fed70,https://i5.walmartimages.com/asr/dd095d8e-3721-4560-87f7-126cbeab3c7c_1.faf5f6b89fed42e5cf37adfeac0c4113.jpeg?odnHeight=450&odnWidth=450&odnBg=FFFFFF,https://i5.walmartimages.com/asr/15c03dd0-20a9-42ae-9569-4fb0e0732375_1.c8486c5ddb4f0b4a5881d2f3a524be54.jpeg?odnHeight=450&odnWidth=450&odnBg=FFFFFF,https://target.scene7.com/is/image/Target/GUEST_b57d07c4-0dd4-4371-a2ef-c2f9d991f35f,https://i5.walmartimages.com/asr/530ec3fc-7130-4c05-8146-4a0286e1ea11_1.94a715400ebbed448c45771b9cf5acbe.jpeg?odnHeight=450&odnWidth=450&odnBg=FFFFFF,https://i5.walmartimages.com/asr/b592bb3d-b8e2-47dd-be86-53b2a93d35b5_1.19452b15c9726d70d4f0d69bf5f9de88.jpeg?odnHeight=450&odnWidth=450&odnBg=FFFFFF,https://media.kohlsimg.com/is/image/kohls/1780800_Burgundy?wid=1000&hei=1000&op_sharpen=1,https://i5.walmartimages.com/asr/38640065-f913-45b4-920b-a90e37adcba8_1.9157838980075f7f81e55c7ad1f65a1b.jpeg?odnHeight=450&odnWidth=450&odnBg=FFFFFF,https://i5.walmartimages.com/asr/0b23015c-962a-4c0b-b915-7778a75d59e0_1.6d735cd37ea0b47ca462ded4cf16b475.jpeg?odnHeight=450&odnWidth=450&odnBg=FFFFFF,https://target.scene7.com/is/image/Target/GUEST_977f3620-0835-4d83-a95b-473511e30f53,https://i5.walmartimages.com/asr/bbc4f506-65d4-4a8e-94dc-26cfa46bfc40_1.28576c90c2f0de03b3b2a9598caa872f.jpeg?odnHeight=450&odnWidth=450&odnBg=FFFFFF,https://i5.walmartimages.com/asr/99f54d5e-af6e-4fdc-af7b-a1a33bb0353b_1.fbb6b16857726ec2bb1122a319bae981.jpeg?odnHeight=450&odnWidth=450&odnBg=FFFFFF,https://i5.walmartimages.com/asr/cc204229-3c8a-4acc-af2d-b7928a77afa8_1.1d9f9921a15d2e45dc4dbfbad3e41406.jpeg?odnHeight=450&odnWidth=450&odnBg=FFFFFF,https://i5.walmartimages.com/asr/669ec6e3-d601-4e25-a3a4-7b5d955ec70c_1.4a34bdc8cc4149e3905b6e76e9091d82.jpeg?odnHeight=450&odnWidth=450&odnBg=FFFFFF\" width=\"300\"/>"
      ],
      "text/plain": [
       "<IPython.core.display.Image object>"
      ]
     },
     "execution_count": 52,
     "metadata": {},
     "output_type": "execute_result"
    }
   ],
   "source": [
    "# foto\n",
    "\n",
    "from IPython.display import Image as PyImage\n",
    "\n",
    "\n",
    "PyImage(url=data.URL[68], width=300)"
   ]
  },
  {
   "cell_type": "markdown",
   "id": "3e94f052",
   "metadata": {},
   "source": [
    "**Generador de codigos de barras**"
   ]
  },
  {
   "cell_type": "code",
   "execution_count": 53,
   "id": "46f79d14",
   "metadata": {},
   "outputs": [
    {
     "name": "stdout",
     "output_type": "stream",
     "text": [
      "Requirement already satisfied: python-barcode in /Users/iudh/opt/anaconda3/envs/clase/lib/python3.8/site-packages (0.13.1)\r\n"
     ]
    }
   ],
   "source": [
    "!pip install python-barcode"
   ]
  },
  {
   "cell_type": "code",
   "execution_count": 54,
   "id": "b2c3b61e",
   "metadata": {},
   "outputs": [],
   "source": [
    "from barcode import EAN13\n",
    "from barcode.writer import ImageWriter"
   ]
  },
  {
   "cell_type": "code",
   "execution_count": 55,
   "id": "1374c4af",
   "metadata": {},
   "outputs": [],
   "source": [
    "# 10 imagenes\n",
    "\n",
    "for i in range(10):\n",
    "    \n",
    "    EAN13(str(data.ean[i]), writer=ImageWriter()).write(f'barcodes/code_{i}.jpeg')"
   ]
  },
  {
   "cell_type": "code",
   "execution_count": 56,
   "id": "0c0a516e",
   "metadata": {},
   "outputs": [
    {
     "data": {
      "text/plain": [
       "797776092321"
      ]
     },
     "execution_count": 56,
     "metadata": {},
     "output_type": "execute_result"
    }
   ],
   "source": [
    "data.ean[2]"
   ]
  },
  {
   "cell_type": "code",
   "execution_count": 57,
   "id": "b63f40ea",
   "metadata": {},
   "outputs": [
    {
     "data": {
      "text/html": [
       "<img src=\"barcodes/code_3.jpeg\" width=\"300\"/>"
      ],
      "text/plain": [
       "<IPython.core.display.Image object>"
      ]
     },
     "execution_count": 57,
     "metadata": {},
     "output_type": "execute_result"
    }
   ],
   "source": [
    "PyImage(url='barcodes/code_3.jpeg', width=300)"
   ]
  },
  {
   "cell_type": "markdown",
   "id": "b0fbf475",
   "metadata": {},
   "source": [
    "### Lector codigos de barras\n",
    "\n",
    "https://pypi.org/project/pyzbar/"
   ]
  },
  {
   "cell_type": "code",
   "execution_count": 58,
   "id": "5778218a",
   "metadata": {},
   "outputs": [],
   "source": [
    "#!apt install libzbar0   # para colab\n",
    "#brew install zbar.      # para mac\n",
    "#!pip install pyzbar\n",
    "\n",
    "from pyzbar.pyzbar import decode\n",
    "\n",
    "from PIL import Image"
   ]
  },
  {
   "cell_type": "code",
   "execution_count": 59,
   "id": "293d30a2",
   "metadata": {},
   "outputs": [
    {
     "data": {
      "text/plain": [
       "b'701197194311'"
      ]
     },
     "execution_count": 59,
     "metadata": {},
     "output_type": "execute_result"
    }
   ],
   "source": [
    "decode(Image.open('barcodes/code_3.jpeg'))[0][0][:-1]"
   ]
  },
  {
   "cell_type": "code",
   "execution_count": 60,
   "id": "4bb04cd7",
   "metadata": {},
   "outputs": [
    {
     "data": {
      "text/plain": [
       "bytes"
      ]
     },
     "execution_count": 60,
     "metadata": {},
     "output_type": "execute_result"
    }
   ],
   "source": [
    "type(b'701197194311')"
   ]
  },
  {
   "cell_type": "code",
   "execution_count": 61,
   "id": "a743e0d7",
   "metadata": {},
   "outputs": [
    {
     "data": {
      "text/html": [
       "<div>\n",
       "<style scoped>\n",
       "    .dataframe tbody tr th:only-of-type {\n",
       "        vertical-align: middle;\n",
       "    }\n",
       "\n",
       "    .dataframe tbody tr th {\n",
       "        vertical-align: top;\n",
       "    }\n",
       "\n",
       "    .dataframe thead th {\n",
       "        text-align: right;\n",
       "    }\n",
       "</style>\n",
       "<table border=\"1\" class=\"dataframe\">\n",
       "  <thead>\n",
       "    <tr style=\"text-align: right;\">\n",
       "      <th></th>\n",
       "      <th>_id</th>\n",
       "      <th>brand</th>\n",
       "      <th>color</th>\n",
       "      <th>size</th>\n",
       "      <th>price</th>\n",
       "      <th>URL</th>\n",
       "      <th>ean</th>\n",
       "    </tr>\n",
       "  </thead>\n",
       "  <tbody>\n",
       "    <tr>\n",
       "      <th>3</th>\n",
       "      <td>5f37c5bafd075a485e63774a</td>\n",
       "      <td>MUK LUKS</td>\n",
       "      <td>Grey</td>\n",
       "      <td>9</td>\n",
       "      <td>47.0</td>\n",
       "      <td>https://i5.walmartimages.com/asr/421de5d5-3a74...</td>\n",
       "      <td>701197194311</td>\n",
       "    </tr>\n",
       "  </tbody>\n",
       "</table>\n",
       "</div>"
      ],
      "text/plain": [
       "                        _id     brand color size  price  \\\n",
       "3  5f37c5bafd075a485e63774a  MUK LUKS  Grey    9   47.0   \n",
       "\n",
       "                                                 URL           ean  \n",
       "3  https://i5.walmartimages.com/asr/421de5d5-3a74...  701197194311  "
      ]
     },
     "execution_count": 61,
     "metadata": {},
     "output_type": "execute_result"
    }
   ],
   "source": [
    "data[data.ean==701197194311]"
   ]
  },
  {
   "cell_type": "markdown",
   "id": "f4e58193",
   "metadata": {},
   "source": [
    "### Captura por webcam"
   ]
  },
  {
   "cell_type": "code",
   "execution_count": 62,
   "id": "fc7d16eb",
   "metadata": {},
   "outputs": [
    {
     "name": "stdout",
     "output_type": "stream",
     "text": [
      "Requirement already satisfied: opencv-python in /Users/iudh/opt/anaconda3/envs/clase/lib/python3.8/site-packages (4.5.5.62)\r\n",
      "Requirement already satisfied: numpy>=1.14.5 in /Users/iudh/opt/anaconda3/envs/clase/lib/python3.8/site-packages (from opencv-python) (1.20.2)\r\n"
     ]
    }
   ],
   "source": [
    "!pip install opencv-python"
   ]
  },
  {
   "cell_type": "code",
   "execution_count": 63,
   "id": "d0264bcb",
   "metadata": {},
   "outputs": [],
   "source": [
    "import cv2\n",
    "\n",
    "import pylab as plt"
   ]
  },
  {
   "cell_type": "code",
   "execution_count": 65,
   "id": "e91fa9e2",
   "metadata": {},
   "outputs": [
    {
     "name": "stdout",
     "output_type": "stream",
     "text": [
      "Captura guardada...\n"
     ]
    },
    {
     "data": {
      "image/png": "[encoded data removed]",
      "text/plain": [
       "<Figure size 432x288 with 1 Axes>"
      ]
     },
     "metadata": {
      "needs_background": "light"
     },
     "output_type": "display_data"
    }
   ],
   "source": [
    "# captura por webcam\n",
    "\n",
    "cam=cv2.VideoCapture(0)\n",
    "\n",
    "while True:\n",
    "    ret, frame=cam.read()\n",
    "\n",
    "    cv2.imshow('Captura', frame)\n",
    "    \n",
    "    if ret==False: break\n",
    "        \n",
    "    key=cv2.waitKey(1)\n",
    "    \n",
    "    if key%256==27: break # tecla ESC\n",
    "        \n",
    "    elif key%256==32:  # SPACE\n",
    "        img_name='capturas/codigo.png'\n",
    "        \n",
    "        cv2.imwrite(img_name, frame)\n",
    "        \n",
    "        print('Captura guardada...')\n",
    "        break\n",
    "        \n",
    "cam.release()\n",
    "cv2.destroyAllWindows()\n",
    "plt.imshow(plt.imread('capturas/codigo.png'));"
   ]
  },
  {
   "cell_type": "markdown",
   "id": "0665e023",
   "metadata": {},
   "source": [
    "# Proceso completo"
   ]
  },
  {
   "cell_type": "markdown",
   "id": "26308d70",
   "metadata": {},
   "source": [
    "**Funciones**"
   ]
  },
  {
   "cell_type": "code",
   "execution_count": 66,
   "id": "bddc52ad",
   "metadata": {},
   "outputs": [],
   "source": [
    "# captura por webcam\n",
    "\n",
    "def captura():\n",
    "    cam=cv2.VideoCapture(0)\n",
    "\n",
    "    while True:\n",
    "        ret, frame=cam.read()\n",
    "\n",
    "        cv2.imshow('Captura', frame)\n",
    "\n",
    "        if ret==False: break\n",
    "\n",
    "        key=cv2.waitKey(1)\n",
    "\n",
    "        if key%256==27: break # tecla ESC\n",
    "\n",
    "        elif key%256==32:  # SPACE\n",
    "            img_name='capturas/codigo.png'\n",
    "\n",
    "            cv2.imwrite(img_name, frame)\n",
    "\n",
    "            print('Captura guardada...')\n",
    "            break\n",
    "\n",
    "    cam.release()\n",
    "    cv2.destroyAllWindows()\n",
    "    plt.imshow(plt.imread('capturas/codigo.png'));"
   ]
  },
  {
   "cell_type": "code",
   "execution_count": 67,
   "id": "4dfb3cbc",
   "metadata": {},
   "outputs": [],
   "source": [
    "# decodifica barcode\n",
    "\n",
    "def decodifica():\n",
    "    codigo=decode(Image.open('capturas/codigo.png'))[0][0][:-1]\n",
    "    return codigo"
   ]
  },
  {
   "cell_type": "code",
   "execution_count": 68,
   "id": "c9aabe69",
   "metadata": {},
   "outputs": [],
   "source": [
    "# busqueda elemento en la base de datos\n",
    "\n",
    "import requests\n",
    "\n",
    "def elemento(df, codigo):\n",
    "    \n",
    "    elem=df.loc[df.ean==int(codigo)]\n",
    "    \n",
    "    display(elem)\n",
    "    \n",
    "    res=requests.get(elem.URL[elem.index[0]], stream=True)\n",
    "    img=Image.open(res.raw)\n",
    "    plt.imshow(img);\n",
    "    \n",
    "    return elem"
   ]
  },
  {
   "cell_type": "code",
   "execution_count": 69,
   "id": "c1bc1d4a",
   "metadata": {},
   "outputs": [
    {
     "data": {
      "text/html": [
       "<div>\n",
       "<style scoped>\n",
       "    .dataframe tbody tr th:only-of-type {\n",
       "        vertical-align: middle;\n",
       "    }\n",
       "\n",
       "    .dataframe tbody tr th {\n",
       "        vertical-align: top;\n",
       "    }\n",
       "\n",
       "    .dataframe thead th {\n",
       "        text-align: right;\n",
       "    }\n",
       "</style>\n",
       "<table border=\"1\" class=\"dataframe\">\n",
       "  <thead>\n",
       "    <tr style=\"text-align: right;\">\n",
       "      <th></th>\n",
       "      <th>_id</th>\n",
       "      <th>brand</th>\n",
       "      <th>color</th>\n",
       "      <th>size</th>\n",
       "      <th>price</th>\n",
       "      <th>URL</th>\n",
       "      <th>ean</th>\n",
       "    </tr>\n",
       "  </thead>\n",
       "  <tbody>\n",
       "    <tr>\n",
       "      <th>3</th>\n",
       "      <td>5f37c5bafd075a485e63774a</td>\n",
       "      <td>MUK LUKS</td>\n",
       "      <td>Grey</td>\n",
       "      <td>9</td>\n",
       "      <td>47.0</td>\n",
       "      <td>https://i5.walmartimages.com/asr/421de5d5-3a74...</td>\n",
       "      <td>701197194311</td>\n",
       "    </tr>\n",
       "  </tbody>\n",
       "</table>\n",
       "</div>"
      ],
      "text/plain": [
       "                        _id     brand color size  price  \\\n",
       "3  5f37c5bafd075a485e63774a  MUK LUKS  Grey    9   47.0   \n",
       "\n",
       "                                                 URL           ean  \n",
       "3  https://i5.walmartimages.com/asr/421de5d5-3a74...  701197194311  "
      ]
     },
     "metadata": {},
     "output_type": "display_data"
    },
    {
     "data": {
      "text/html": [
       "<div>\n",
       "<style scoped>\n",
       "    .dataframe tbody tr th:only-of-type {\n",
       "        vertical-align: middle;\n",
       "    }\n",
       "\n",
       "    .dataframe tbody tr th {\n",
       "        vertical-align: top;\n",
       "    }\n",
       "\n",
       "    .dataframe thead th {\n",
       "        text-align: right;\n",
       "    }\n",
       "</style>\n",
       "<table border=\"1\" class=\"dataframe\">\n",
       "  <thead>\n",
       "    <tr style=\"text-align: right;\">\n",
       "      <th></th>\n",
       "      <th>_id</th>\n",
       "      <th>brand</th>\n",
       "      <th>color</th>\n",
       "      <th>size</th>\n",
       "      <th>price</th>\n",
       "      <th>URL</th>\n",
       "      <th>ean</th>\n",
       "    </tr>\n",
       "  </thead>\n",
       "  <tbody>\n",
       "    <tr>\n",
       "      <th>3</th>\n",
       "      <td>5f37c5bafd075a485e63774a</td>\n",
       "      <td>MUK LUKS</td>\n",
       "      <td>Grey</td>\n",
       "      <td>9</td>\n",
       "      <td>47.0</td>\n",
       "      <td>https://i5.walmartimages.com/asr/421de5d5-3a74...</td>\n",
       "      <td>701197194311</td>\n",
       "    </tr>\n",
       "  </tbody>\n",
       "</table>\n",
       "</div>"
      ],
      "text/plain": [
       "                        _id     brand color size  price  \\\n",
       "3  5f37c5bafd075a485e63774a  MUK LUKS  Grey    9   47.0   \n",
       "\n",
       "                                                 URL           ean  \n",
       "3  https://i5.walmartimages.com/asr/421de5d5-3a74...  701197194311  "
      ]
     },
     "execution_count": 69,
     "metadata": {},
     "output_type": "execute_result"
    },
    {
     "data": {
      "image/png": "[encoded data removed]",
      "text/plain": [
       "<Figure size 432x288 with 1 Axes>"
      ]
     },
     "metadata": {
      "needs_background": "light"
     },
     "output_type": "display_data"
    }
   ],
   "source": [
    "elemento(data, 701197194311)"
   ]
  },
  {
   "cell_type": "code",
   "execution_count": 70,
   "id": "c407833d",
   "metadata": {},
   "outputs": [],
   "source": [
    "# buscando similares (brand, color, size, price)\n",
    "\n",
    "def busqueda_similares(df, elem, campo):\n",
    "    \n",
    "    productos=df.loc[df[campo]==elem[campo][elem.index[0]]]\n",
    "    \n",
    "    return productos"
   ]
  },
  {
   "cell_type": "markdown",
   "id": "938825b9",
   "metadata": {},
   "source": [
    "**Captura por webcam**"
   ]
  },
  {
   "cell_type": "code",
   "execution_count": 71,
   "id": "0296c0d6",
   "metadata": {},
   "outputs": [
    {
     "name": "stdout",
     "output_type": "stream",
     "text": [
      "Captura guardada...\n"
     ]
    },
    {
     "data": {
      "image/png": "[encoded data removed]",
      "text/plain": [
       "<Figure size 432x288 with 1 Axes>"
      ]
     },
     "metadata": {
      "needs_background": "light"
     },
     "output_type": "display_data"
    }
   ],
   "source": [
    "captura()"
   ]
  },
  {
   "cell_type": "markdown",
   "id": "f6bce7bc",
   "metadata": {},
   "source": [
    "**Decodifica**"
   ]
  },
  {
   "cell_type": "code",
   "execution_count": 72,
   "id": "f6205cbc",
   "metadata": {},
   "outputs": [
    {
     "data": {
      "text/plain": [
       "b'797776110773'"
      ]
     },
     "execution_count": 72,
     "metadata": {},
     "output_type": "execute_result"
    }
   ],
   "source": [
    "codigo=decodifica()\n",
    "\n",
    "codigo"
   ]
  },
  {
   "cell_type": "markdown",
   "id": "028c3f6d",
   "metadata": {},
   "source": [
    "**Elemento buscado**"
   ]
  },
  {
   "cell_type": "code",
   "execution_count": 74,
   "id": "2d732f92",
   "metadata": {},
   "outputs": [
    {
     "data": {
      "text/html": [
       "<div>\n",
       "<style scoped>\n",
       "    .dataframe tbody tr th:only-of-type {\n",
       "        vertical-align: middle;\n",
       "    }\n",
       "\n",
       "    .dataframe tbody tr th {\n",
       "        vertical-align: top;\n",
       "    }\n",
       "\n",
       "    .dataframe thead th {\n",
       "        text-align: right;\n",
       "    }\n",
       "</style>\n",
       "<table border=\"1\" class=\"dataframe\">\n",
       "  <thead>\n",
       "    <tr style=\"text-align: right;\">\n",
       "      <th></th>\n",
       "      <th>_id</th>\n",
       "      <th>brand</th>\n",
       "      <th>color</th>\n",
       "      <th>size</th>\n",
       "      <th>price</th>\n",
       "      <th>URL</th>\n",
       "      <th>ean</th>\n",
       "    </tr>\n",
       "  </thead>\n",
       "  <tbody>\n",
       "    <tr>\n",
       "      <th>4</th>\n",
       "      <td>5f37c5bafd075a485e63774b</td>\n",
       "      <td>MUK LUKS</td>\n",
       "      <td>Grey</td>\n",
       "      <td>8</td>\n",
       "      <td>47.0</td>\n",
       "      <td>https://i5.walmartimages.com/asr/421de5d5-3a74...</td>\n",
       "      <td>797776110773</td>\n",
       "    </tr>\n",
       "  </tbody>\n",
       "</table>\n",
       "</div>"
      ],
      "text/plain": [
       "                        _id     brand color size  price  \\\n",
       "4  5f37c5bafd075a485e63774b  MUK LUKS  Grey    8   47.0   \n",
       "\n",
       "                                                 URL           ean  \n",
       "4  https://i5.walmartimages.com/asr/421de5d5-3a74...  797776110773  "
      ]
     },
     "metadata": {},
     "output_type": "display_data"
    },
    {
     "data": {
      "image/png": "[encoded data removed]",
      "text/plain": [
       "<Figure size 432x288 with 1 Axes>"
      ]
     },
     "metadata": {
      "needs_background": "light"
     },
     "output_type": "display_data"
    }
   ],
   "source": [
    "elem=elemento(data, codigo)"
   ]
  },
  {
   "cell_type": "markdown",
   "id": "9324a74d",
   "metadata": {},
   "source": [
    "**Busquedas similares**"
   ]
  },
  {
   "cell_type": "code",
   "execution_count": 76,
   "id": "d92d7b47",
   "metadata": {},
   "outputs": [
    {
     "data": {
      "text/html": [
       "<div>\n",
       "<style scoped>\n",
       "    .dataframe tbody tr th:only-of-type {\n",
       "        vertical-align: middle;\n",
       "    }\n",
       "\n",
       "    .dataframe tbody tr th {\n",
       "        vertical-align: top;\n",
       "    }\n",
       "\n",
       "    .dataframe thead th {\n",
       "        text-align: right;\n",
       "    }\n",
       "</style>\n",
       "<table border=\"1\" class=\"dataframe\">\n",
       "  <thead>\n",
       "    <tr style=\"text-align: right;\">\n",
       "      <th></th>\n",
       "      <th>_id</th>\n",
       "      <th>brand</th>\n",
       "      <th>color</th>\n",
       "      <th>size</th>\n",
       "      <th>price</th>\n",
       "      <th>URL</th>\n",
       "      <th>ean</th>\n",
       "    </tr>\n",
       "  </thead>\n",
       "  <tbody>\n",
       "    <tr>\n",
       "      <th>0</th>\n",
       "      <td>5f37c5bafd075a485e637747</td>\n",
       "      <td>MUK LUKS</td>\n",
       "      <td>Grey</td>\n",
       "      <td>10</td>\n",
       "      <td>47.0</td>\n",
       "      <td>https://i5.walmartimages.com/asr/421de5d5-3a74...</td>\n",
       "      <td>725177540363</td>\n",
       "    </tr>\n",
       "    <tr>\n",
       "      <th>1</th>\n",
       "      <td>5f37c5bafd075a485e637748</td>\n",
       "      <td>MUK LUKS</td>\n",
       "      <td>Grey</td>\n",
       "      <td>7</td>\n",
       "      <td>47.0</td>\n",
       "      <td>https://i5.walmartimages.com/asr/421de5d5-3a74...</td>\n",
       "      <td>725177540370</td>\n",
       "    </tr>\n",
       "    <tr>\n",
       "      <th>2</th>\n",
       "      <td>5f37c5bafd075a485e637749</td>\n",
       "      <td>MUK LUKS</td>\n",
       "      <td>Grey</td>\n",
       "      <td>6</td>\n",
       "      <td>47.0</td>\n",
       "      <td>https://i5.walmartimages.com/asr/421de5d5-3a74...</td>\n",
       "      <td>797776092321</td>\n",
       "    </tr>\n",
       "    <tr>\n",
       "      <th>3</th>\n",
       "      <td>5f37c5bafd075a485e63774a</td>\n",
       "      <td>MUK LUKS</td>\n",
       "      <td>Grey</td>\n",
       "      <td>9</td>\n",
       "      <td>47.0</td>\n",
       "      <td>https://i5.walmartimages.com/asr/421de5d5-3a74...</td>\n",
       "      <td>701197194311</td>\n",
       "    </tr>\n",
       "    <tr>\n",
       "      <th>4</th>\n",
       "      <td>5f37c5bafd075a485e63774b</td>\n",
       "      <td>MUK LUKS</td>\n",
       "      <td>Grey</td>\n",
       "      <td>8</td>\n",
       "      <td>47.0</td>\n",
       "      <td>https://i5.walmartimages.com/asr/421de5d5-3a74...</td>\n",
       "      <td>797776110773</td>\n",
       "    </tr>\n",
       "  </tbody>\n",
       "</table>\n",
       "</div>"
      ],
      "text/plain": [
       "                        _id     brand color size  price  \\\n",
       "0  5f37c5bafd075a485e637747  MUK LUKS  Grey   10   47.0   \n",
       "1  5f37c5bafd075a485e637748  MUK LUKS  Grey    7   47.0   \n",
       "2  5f37c5bafd075a485e637749  MUK LUKS  Grey    6   47.0   \n",
       "3  5f37c5bafd075a485e63774a  MUK LUKS  Grey    9   47.0   \n",
       "4  5f37c5bafd075a485e63774b  MUK LUKS  Grey    8   47.0   \n",
       "\n",
       "                                                 URL           ean  \n",
       "0  https://i5.walmartimages.com/asr/421de5d5-3a74...  725177540363  \n",
       "1  https://i5.walmartimages.com/asr/421de5d5-3a74...  725177540370  \n",
       "2  https://i5.walmartimages.com/asr/421de5d5-3a74...  797776092321  \n",
       "3  https://i5.walmartimages.com/asr/421de5d5-3a74...  701197194311  \n",
       "4  https://i5.walmartimages.com/asr/421de5d5-3a74...  797776110773  "
      ]
     },
     "execution_count": 76,
     "metadata": {},
     "output_type": "execute_result"
    }
   ],
   "source": [
    "busqueda_similares(data, elem, 'brand').head()"
   ]
  },
  {
   "cell_type": "code",
   "execution_count": 78,
   "id": "9a2a9f0c",
   "metadata": {},
   "outputs": [
    {
     "data": {
      "text/html": [
       "<div>\n",
       "<style scoped>\n",
       "    .dataframe tbody tr th:only-of-type {\n",
       "        vertical-align: middle;\n",
       "    }\n",
       "\n",
       "    .dataframe tbody tr th {\n",
       "        vertical-align: top;\n",
       "    }\n",
       "\n",
       "    .dataframe thead th {\n",
       "        text-align: right;\n",
       "    }\n",
       "</style>\n",
       "<table border=\"1\" class=\"dataframe\">\n",
       "  <thead>\n",
       "    <tr style=\"text-align: right;\">\n",
       "      <th></th>\n",
       "      <th>_id</th>\n",
       "      <th>brand</th>\n",
       "      <th>color</th>\n",
       "      <th>size</th>\n",
       "      <th>price</th>\n",
       "      <th>URL</th>\n",
       "      <th>ean</th>\n",
       "    </tr>\n",
       "  </thead>\n",
       "  <tbody>\n",
       "    <tr>\n",
       "      <th>10928</th>\n",
       "      <td>5f37c5bafd075a485e638d64</td>\n",
       "      <td>journee collection</td>\n",
       "      <td>Grey</td>\n",
       "      <td>7</td>\n",
       "      <td>74.99</td>\n",
       "      <td>https://media.kohlsimg.com/is/image/kohls/2671...</td>\n",
       "      <td>610696077653</td>\n",
       "    </tr>\n",
       "    <tr>\n",
       "      <th>10931</th>\n",
       "      <td>5f37c5bafd075a485e638d65</td>\n",
       "      <td>journee collection</td>\n",
       "      <td>Grey</td>\n",
       "      <td>7.5</td>\n",
       "      <td>74.99</td>\n",
       "      <td>https://media.kohlsimg.com/is/image/kohls/2671...</td>\n",
       "      <td>610696079503</td>\n",
       "    </tr>\n",
       "    <tr>\n",
       "      <th>10934</th>\n",
       "      <td>5f37c5bafd075a485e638d66</td>\n",
       "      <td>journee collection</td>\n",
       "      <td>Grey</td>\n",
       "      <td>8</td>\n",
       "      <td>74.99</td>\n",
       "      <td>https://media.kohlsimg.com/is/image/kohls/2671...</td>\n",
       "      <td>610696079510</td>\n",
       "    </tr>\n",
       "    <tr>\n",
       "      <th>10937</th>\n",
       "      <td>5f37c5bafd075a485e638d67</td>\n",
       "      <td>journee collection</td>\n",
       "      <td>Grey</td>\n",
       "      <td>8.5</td>\n",
       "      <td>74.99</td>\n",
       "      <td>https://media.kohlsimg.com/is/image/kohls/2671...</td>\n",
       "      <td>610696079527</td>\n",
       "    </tr>\n",
       "    <tr>\n",
       "      <th>10940</th>\n",
       "      <td>5f37c5bafd075a485e638d68</td>\n",
       "      <td>journee collection</td>\n",
       "      <td>Grey</td>\n",
       "      <td>9</td>\n",
       "      <td>74.99</td>\n",
       "      <td>https://media.kohlsimg.com/is/image/kohls/2671...</td>\n",
       "      <td>610696079534</td>\n",
       "    </tr>\n",
       "  </tbody>\n",
       "</table>\n",
       "</div>"
      ],
      "text/plain": [
       "                            _id               brand color size  price  \\\n",
       "10928  5f37c5bafd075a485e638d64  journee collection  Grey    7  74.99   \n",
       "10931  5f37c5bafd075a485e638d65  journee collection  Grey  7.5  74.99   \n",
       "10934  5f37c5bafd075a485e638d66  journee collection  Grey    8  74.99   \n",
       "10937  5f37c5bafd075a485e638d67  journee collection  Grey  8.5  74.99   \n",
       "10940  5f37c5bafd075a485e638d68  journee collection  Grey    9  74.99   \n",
       "\n",
       "                                                     URL           ean  \n",
       "10928  https://media.kohlsimg.com/is/image/kohls/2671...  610696077653  \n",
       "10931  https://media.kohlsimg.com/is/image/kohls/2671...  610696079503  \n",
       "10934  https://media.kohlsimg.com/is/image/kohls/2671...  610696079510  \n",
       "10937  https://media.kohlsimg.com/is/image/kohls/2671...  610696079527  \n",
       "10940  https://media.kohlsimg.com/is/image/kohls/2671...  610696079534  "
      ]
     },
     "execution_count": 78,
     "metadata": {},
     "output_type": "execute_result"
    }
   ],
   "source": [
    "busqueda_similares(data, elem, 'color').tail()"
   ]
  },
  {
   "cell_type": "code",
   "execution_count": 79,
   "id": "55d922dd",
   "metadata": {},
   "outputs": [
    {
     "data": {
      "text/html": [
       "<div>\n",
       "<style scoped>\n",
       "    .dataframe tbody tr th:only-of-type {\n",
       "        vertical-align: middle;\n",
       "    }\n",
       "\n",
       "    .dataframe tbody tr th {\n",
       "        vertical-align: top;\n",
       "    }\n",
       "\n",
       "    .dataframe thead th {\n",
       "        text-align: right;\n",
       "    }\n",
       "</style>\n",
       "<table border=\"1\" class=\"dataframe\">\n",
       "  <thead>\n",
       "    <tr style=\"text-align: right;\">\n",
       "      <th></th>\n",
       "      <th>_id</th>\n",
       "      <th>brand</th>\n",
       "      <th>color</th>\n",
       "      <th>size</th>\n",
       "      <th>price</th>\n",
       "      <th>URL</th>\n",
       "      <th>ean</th>\n",
       "    </tr>\n",
       "  </thead>\n",
       "  <tbody>\n",
       "    <tr>\n",
       "      <th>4</th>\n",
       "      <td>5f37c5bafd075a485e63774b</td>\n",
       "      <td>MUK LUKS</td>\n",
       "      <td>Grey</td>\n",
       "      <td>8</td>\n",
       "      <td>47.00</td>\n",
       "      <td>https://i5.walmartimages.com/asr/421de5d5-3a74...</td>\n",
       "      <td>797776110773</td>\n",
       "    </tr>\n",
       "    <tr>\n",
       "      <th>9</th>\n",
       "      <td>5f37c5bafd075a485e637750</td>\n",
       "      <td>MUK LUKS</td>\n",
       "      <td>Grey</td>\n",
       "      <td>8</td>\n",
       "      <td>35.25</td>\n",
       "      <td>https://i5.walmartimages.com/asr/421de5d5-3a74...</td>\n",
       "      <td>701197247482</td>\n",
       "    </tr>\n",
       "    <tr>\n",
       "      <th>14</th>\n",
       "      <td>5f37c5bafd075a485e637755</td>\n",
       "      <td>MUK LUKS</td>\n",
       "      <td>Black</td>\n",
       "      <td>8</td>\n",
       "      <td>24.75</td>\n",
       "      <td>https://i5.walmartimages.com/asr/950d38a5-0113...</td>\n",
       "      <td>797776111039</td>\n",
       "    </tr>\n",
       "    <tr>\n",
       "      <th>19</th>\n",
       "      <td>5f37c5bafd075a485e63775a</td>\n",
       "      <td>MUK LUKS</td>\n",
       "      <td>Grey</td>\n",
       "      <td>8</td>\n",
       "      <td>33.00</td>\n",
       "      <td>https://i5.walmartimages.com/asr/5e137bc3-c900...</td>\n",
       "      <td>799439792517</td>\n",
       "    </tr>\n",
       "    <tr>\n",
       "      <th>130</th>\n",
       "      <td>5f37c5bafd075a485e637771</td>\n",
       "      <td>MUK LUKS</td>\n",
       "      <td>Navy</td>\n",
       "      <td>8</td>\n",
       "      <td>59.00</td>\n",
       "      <td>https://i5.walmartimages.com/asr/33997517-2082...</td>\n",
       "      <td>797776099986</td>\n",
       "    </tr>\n",
       "  </tbody>\n",
       "</table>\n",
       "</div>"
      ],
      "text/plain": [
       "                          _id     brand  color size  price  \\\n",
       "4    5f37c5bafd075a485e63774b  MUK LUKS   Grey    8  47.00   \n",
       "9    5f37c5bafd075a485e637750  MUK LUKS   Grey    8  35.25   \n",
       "14   5f37c5bafd075a485e637755  MUK LUKS  Black    8  24.75   \n",
       "19   5f37c5bafd075a485e63775a  MUK LUKS   Grey    8  33.00   \n",
       "130  5f37c5bafd075a485e637771  MUK LUKS   Navy    8  59.00   \n",
       "\n",
       "                                                   URL           ean  \n",
       "4    https://i5.walmartimages.com/asr/421de5d5-3a74...  797776110773  \n",
       "9    https://i5.walmartimages.com/asr/421de5d5-3a74...  701197247482  \n",
       "14   https://i5.walmartimages.com/asr/950d38a5-0113...  797776111039  \n",
       "19   https://i5.walmartimages.com/asr/5e137bc3-c900...  799439792517  \n",
       "130  https://i5.walmartimages.com/asr/33997517-2082...  797776099986  "
      ]
     },
     "execution_count": 79,
     "metadata": {},
     "output_type": "execute_result"
    }
   ],
   "source": [
    "busqueda_similares(data, elem, 'size').head()"
   ]
  },
  {
   "cell_type": "code",
   "execution_count": 81,
   "id": "b023b93f",
   "metadata": {},
   "outputs": [
    {
     "data": {
      "text/html": [
       "<div>\n",
       "<style scoped>\n",
       "    .dataframe tbody tr th:only-of-type {\n",
       "        vertical-align: middle;\n",
       "    }\n",
       "\n",
       "    .dataframe tbody tr th {\n",
       "        vertical-align: top;\n",
       "    }\n",
       "\n",
       "    .dataframe thead th {\n",
       "        text-align: right;\n",
       "    }\n",
       "</style>\n",
       "<table border=\"1\" class=\"dataframe\">\n",
       "  <thead>\n",
       "    <tr style=\"text-align: right;\">\n",
       "      <th></th>\n",
       "      <th>_id</th>\n",
       "      <th>brand</th>\n",
       "      <th>color</th>\n",
       "      <th>size</th>\n",
       "      <th>price</th>\n",
       "      <th>URL</th>\n",
       "      <th>ean</th>\n",
       "    </tr>\n",
       "  </thead>\n",
       "  <tbody>\n",
       "    <tr>\n",
       "      <th>0</th>\n",
       "      <td>5f37c5bafd075a485e637747</td>\n",
       "      <td>MUK LUKS</td>\n",
       "      <td>Grey</td>\n",
       "      <td>10</td>\n",
       "      <td>47.0</td>\n",
       "      <td>https://i5.walmartimages.com/asr/421de5d5-3a74...</td>\n",
       "      <td>725177540363</td>\n",
       "    </tr>\n",
       "    <tr>\n",
       "      <th>1</th>\n",
       "      <td>5f37c5bafd075a485e637748</td>\n",
       "      <td>MUK LUKS</td>\n",
       "      <td>Grey</td>\n",
       "      <td>7</td>\n",
       "      <td>47.0</td>\n",
       "      <td>https://i5.walmartimages.com/asr/421de5d5-3a74...</td>\n",
       "      <td>725177540370</td>\n",
       "    </tr>\n",
       "    <tr>\n",
       "      <th>2</th>\n",
       "      <td>5f37c5bafd075a485e637749</td>\n",
       "      <td>MUK LUKS</td>\n",
       "      <td>Grey</td>\n",
       "      <td>6</td>\n",
       "      <td>47.0</td>\n",
       "      <td>https://i5.walmartimages.com/asr/421de5d5-3a74...</td>\n",
       "      <td>797776092321</td>\n",
       "    </tr>\n",
       "    <tr>\n",
       "      <th>3</th>\n",
       "      <td>5f37c5bafd075a485e63774a</td>\n",
       "      <td>MUK LUKS</td>\n",
       "      <td>Grey</td>\n",
       "      <td>9</td>\n",
       "      <td>47.0</td>\n",
       "      <td>https://i5.walmartimages.com/asr/421de5d5-3a74...</td>\n",
       "      <td>701197194311</td>\n",
       "    </tr>\n",
       "    <tr>\n",
       "      <th>4</th>\n",
       "      <td>5f37c5bafd075a485e63774b</td>\n",
       "      <td>MUK LUKS</td>\n",
       "      <td>Grey</td>\n",
       "      <td>8</td>\n",
       "      <td>47.0</td>\n",
       "      <td>https://i5.walmartimages.com/asr/421de5d5-3a74...</td>\n",
       "      <td>797776110773</td>\n",
       "    </tr>\n",
       "  </tbody>\n",
       "</table>\n",
       "</div>"
      ],
      "text/plain": [
       "                        _id     brand color size  price  \\\n",
       "0  5f37c5bafd075a485e637747  MUK LUKS  Grey   10   47.0   \n",
       "1  5f37c5bafd075a485e637748  MUK LUKS  Grey    7   47.0   \n",
       "2  5f37c5bafd075a485e637749  MUK LUKS  Grey    6   47.0   \n",
       "3  5f37c5bafd075a485e63774a  MUK LUKS  Grey    9   47.0   \n",
       "4  5f37c5bafd075a485e63774b  MUK LUKS  Grey    8   47.0   \n",
       "\n",
       "                                                 URL           ean  \n",
       "0  https://i5.walmartimages.com/asr/421de5d5-3a74...  725177540363  \n",
       "1  https://i5.walmartimages.com/asr/421de5d5-3a74...  725177540370  \n",
       "2  https://i5.walmartimages.com/asr/421de5d5-3a74...  797776092321  \n",
       "3  https://i5.walmartimages.com/asr/421de5d5-3a74...  701197194311  \n",
       "4  https://i5.walmartimages.com/asr/421de5d5-3a74...  797776110773  "
      ]
     },
     "execution_count": 81,
     "metadata": {},
     "output_type": "execute_result"
    }
   ],
   "source": [
    "busqueda_similares(data, elem, 'price').tail()"
   ]
  },
  {
   "cell_type": "markdown",
   "id": "5b10c14f",
   "metadata": {},
   "source": [
    "## Feedback\n",
    "\n",
    "https://forms.gle/SmudEXzH1FoBfZAz7\n",
    "    \n",
    "![qr](images/feedback.png)   "
   ]
  }
 ],
 "metadata": {
  "finalized": {
   "timestamp": 1646472847018,
   "trusted": false
  },
  "kernelspec": {
   "display_name": "clase",
   "language": "python",
   "name": "clase"
  },
  "language_info": {
   "codemirror_mode": {
    "name": "ipython",
    "version": 3
   },
   "file_extension": ".py",
   "mimetype": "text/x-python",
   "name": "python",
   "nbconvert_exporter": "python",
   "pygments_lexer": "ipython3",
   "version": "3.8.8"
  }
 },
 "nbformat": 4,
 "nbformat_minor": 5
}
