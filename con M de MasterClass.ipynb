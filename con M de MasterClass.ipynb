{
 "cells": [
  {
   "cell_type": "markdown",
   "id": "a7fe626a",
   "metadata": {},
   "source": [
    "# Con M de MasterClass\n",
    "\n",
    "### Python\n",
    "\n",
    "\n",
    "https://docs.python.org/3/\n",
    "\n",
    "![python](images/python.png)\n",
    "\n",
    "$$$$\n",
    "\n",
    "Python es un lenguaje de programación interpretado cuya filosofía hace hincapié en la legibilidad de su código. Se trata de un lenguaje de programación multiparadigma, ya que soporta parcialmente la orientación a objetos, programación imperativa y, en menor medida, programación funcional. Es un lenguaje interpretado, dinámico y multiplataforma.\n",
    "\n",
    "Es administrado por la Python Software Foundation. Posee una licencia de código abierto, denominada Python Software Foundation License."
   ]
  },
  {
   "cell_type": "code",
   "execution_count": null,
   "id": "99137faa",
   "metadata": {},
   "outputs": [],
   "source": [
    "import this"
   ]
  },
  {
   "cell_type": "code",
   "execution_count": null,
   "id": "24132002",
   "metadata": {},
   "outputs": [],
   "source": [
    "# numeros\n",
    "\n",
    "edad=35"
   ]
  },
  {
   "cell_type": "code",
   "execution_count": null,
   "id": "791f560d",
   "metadata": {},
   "outputs": [],
   "source": [
    "edad"
   ]
  },
  {
   "cell_type": "code",
   "execution_count": null,
   "id": "a942b22e",
   "metadata": {},
   "outputs": [],
   "source": [
    "type(edad)"
   ]
  },
  {
   "cell_type": "code",
   "execution_count": null,
   "id": "5cafea47",
   "metadata": {},
   "outputs": [],
   "source": [
    "type(13.45)"
   ]
  },
  {
   "cell_type": "code",
   "execution_count": null,
   "id": "ff0de9df",
   "metadata": {},
   "outputs": [],
   "source": [
    "type(23 + 98j)"
   ]
  },
  {
   "cell_type": "code",
   "execution_count": null,
   "id": "4dfd2eb2",
   "metadata": {},
   "outputs": [],
   "source": [
    "# operaciones basicas\n",
    "\n",
    "23+9"
   ]
  },
  {
   "cell_type": "code",
   "execution_count": null,
   "id": "d0a06580",
   "metadata": {},
   "outputs": [],
   "source": [
    "edad + 78"
   ]
  },
  {
   "cell_type": "code",
   "execution_count": null,
   "id": "abf9fba9",
   "metadata": {},
   "outputs": [],
   "source": [
    "3 - 6"
   ]
  },
  {
   "cell_type": "code",
   "execution_count": null,
   "id": "cbbcb8bd",
   "metadata": {},
   "outputs": [],
   "source": [
    "3/6"
   ]
  },
  {
   "cell_type": "code",
   "execution_count": null,
   "id": "67b59f56",
   "metadata": {},
   "outputs": [],
   "source": [
    "13//6"
   ]
  },
  {
   "cell_type": "code",
   "execution_count": null,
   "id": "12365c85",
   "metadata": {},
   "outputs": [],
   "source": [
    "3*9"
   ]
  },
  {
   "cell_type": "code",
   "execution_count": null,
   "id": "48b1a93c",
   "metadata": {},
   "outputs": [],
   "source": [
    "2**3"
   ]
  },
  {
   "cell_type": "code",
   "execution_count": null,
   "id": "9bb1b200",
   "metadata": {},
   "outputs": [],
   "source": [
    "# strings - cadenas de caracteres\n",
    "\n",
    "\n",
    "saludo='¡hola que tal gente¡'"
   ]
  },
  {
   "cell_type": "code",
   "execution_count": null,
   "id": "d4c829b6",
   "metadata": {},
   "outputs": [],
   "source": [
    "saludo"
   ]
  },
  {
   "cell_type": "code",
   "execution_count": null,
   "id": "eefce9f7",
   "metadata": {},
   "outputs": [],
   "source": [
    "type(saludo)"
   ]
  },
  {
   "cell_type": "code",
   "execution_count": null,
   "id": "b77b6ff7",
   "metadata": {},
   "outputs": [],
   "source": [
    "saludo + '...aqui estamos cuco'"
   ]
  },
  {
   "cell_type": "code",
   "execution_count": null,
   "id": "1934e6b3",
   "metadata": {},
   "outputs": [],
   "source": [
    "#saludo + 2"
   ]
  },
  {
   "cell_type": "code",
   "execution_count": null,
   "id": "ccad16d0",
   "metadata": {},
   "outputs": [],
   "source": [
    "'aaa'*10"
   ]
  },
  {
   "cell_type": "code",
   "execution_count": null,
   "id": "31a774bc",
   "metadata": {},
   "outputs": [],
   "source": [
    "# listas \n",
    "\n",
    "lst=[1.1, 24, 35, 897, 4646, 890, 453, 654, 654, 20000]\n",
    "\n",
    "lst"
   ]
  },
  {
   "cell_type": "code",
   "execution_count": null,
   "id": "445d4c1d",
   "metadata": {},
   "outputs": [],
   "source": [
    "type(lst)"
   ]
  },
  {
   "cell_type": "code",
   "execution_count": null,
   "id": "eb6b8cbd",
   "metadata": {},
   "outputs": [],
   "source": [
    "len(lst)"
   ]
  },
  {
   "cell_type": "code",
   "execution_count": null,
   "id": "10f65d9d",
   "metadata": {},
   "outputs": [],
   "source": [
    "min(lst)"
   ]
  },
  {
   "cell_type": "code",
   "execution_count": null,
   "id": "43492ddf",
   "metadata": {},
   "outputs": [],
   "source": [
    "max(lst)"
   ]
  },
  {
   "cell_type": "code",
   "execution_count": null,
   "id": "1d4923b5",
   "metadata": {},
   "outputs": [],
   "source": [
    "24 in lst"
   ]
  },
  {
   "cell_type": "code",
   "execution_count": null,
   "id": "e9dc2f22",
   "metadata": {},
   "outputs": [],
   "source": [
    "'hola' in lst"
   ]
  },
  {
   "cell_type": "code",
   "execution_count": null,
   "id": "7f2f0e49",
   "metadata": {},
   "outputs": [],
   "source": [
    "lst[3]"
   ]
  },
  {
   "cell_type": "code",
   "execution_count": null,
   "id": "d2de858e",
   "metadata": {},
   "outputs": [],
   "source": [
    "lst[3]=1000\n",
    "\n",
    "lst"
   ]
  },
  {
   "cell_type": "code",
   "execution_count": null,
   "id": "3bc50656",
   "metadata": {},
   "outputs": [],
   "source": [
    "# slicing, acceso por indice en las listas\n",
    "\n",
    "# lst[start:stop:step]\n",
    "\n",
    "lst[2 : 8 : 2]"
   ]
  },
  {
   "cell_type": "code",
   "execution_count": null,
   "id": "f6dce9d1",
   "metadata": {},
   "outputs": [],
   "source": [
    "# tambien en string\n",
    "\n",
    "'jnvejnvoenqopnemcpomer'[2 : 8 : 2]"
   ]
  },
  {
   "cell_type": "code",
   "execution_count": null,
   "id": "2eb1c98e",
   "metadata": {},
   "outputs": [],
   "source": [
    "# bucles\n",
    "\n",
    "for e in lst:\n",
    "    print(e)"
   ]
  },
  {
   "cell_type": "code",
   "execution_count": null,
   "id": "4dba28c6",
   "metadata": {},
   "outputs": [],
   "source": [
    "for i in range(0, len(lst), 1):\n",
    "    print(i)"
   ]
  },
  {
   "cell_type": "code",
   "execution_count": null,
   "id": "2806bf39",
   "metadata": {},
   "outputs": [],
   "source": [
    "for i in range(0, len(lst), 1):\n",
    "    print(i, lst[i])"
   ]
  },
  {
   "cell_type": "code",
   "execution_count": null,
   "id": "bad63dd8",
   "metadata": {},
   "outputs": [],
   "source": [
    "for index, elem in enumerate(lst):\n",
    "    print (index,':',elem)"
   ]
  },
  {
   "cell_type": "code",
   "execution_count": null,
   "id": "7e066c84",
   "metadata": {},
   "outputs": [],
   "source": [
    "a=0\n",
    "\n",
    "\n",
    "while a<5:\n",
    "    print(a)\n",
    "    a+=1"
   ]
  },
  {
   "cell_type": "code",
   "execution_count": null,
   "id": "5ca4f8be",
   "metadata": {},
   "outputs": [],
   "source": [
    "# fibonacci con bucle while\n",
    "\n",
    "a=0\n",
    "b=1\n",
    "\n",
    "conta=0\n",
    "\n",
    "print (a)\n",
    "print (b)\n",
    "\n",
    "while conta<10:\n",
    "    c=a+b\n",
    "    print (c)\n",
    "    \n",
    "    a=b\n",
    "    b=c\n",
    "    \n",
    "    conta+=1"
   ]
  },
  {
   "cell_type": "code",
   "execution_count": null,
   "id": "13b9a4e5",
   "metadata": {},
   "outputs": [],
   "source": [
    "# condicionales\n",
    "\n",
    "estudiante = 'Pepe 😄'\n",
    "\n",
    "if estudiante[-1] == '😷':\n",
    "    print(estudiante, 'puede entrar en el campus')\n",
    "else:\n",
    "    print(estudiante, 'no puede entrar en el campus')"
   ]
  },
  {
   "cell_type": "code",
   "execution_count": null,
   "id": "4b05ac4e",
   "metadata": {},
   "outputs": [],
   "source": [
    "a=0\n",
    "\n",
    "if a==0:\n",
    "    print('A es un cerito...')\n",
    "    \n",
    "elif a<0:\n",
    "    print('menor')\n",
    "\n",
    "elif a>0:\n",
    "    print('mayor')\n",
    "    \n",
    "else:\n",
    "    print('nada')"
   ]
  },
  {
   "cell_type": "markdown",
   "id": "eb85a2eb",
   "metadata": {},
   "source": [
    "### Funciones\n",
    "\n",
    "![funciones](images/funciones.jpg)\n",
    "\n",
    "\n",
    "Una función es un bloque de código con un nombre asociado, que recibe cero o más argumentos como entrada, sigue una secuencia de sentencias, la cuales ejecuta una operación deseada y devuelve un valor y/o realiza una tarea, este bloque puede ser llamados cuando se necesite.\n",
    "\n",
    "El uso de funciones es un componente muy importante del paradigma de la programación llamada estructurada, y tiene varias ventajas:\n",
    "- modularización: permite segmentar un programa complejo en una serie de partes o módulos más simples, facilitando así la programación y el depurado.\n",
    "- reutilización: permite reutilizar una misma función en distintos programas.\n",
    "\n",
    "\n",
    "##### Funciones custom\n",
    "\n",
    "Funciones creadas por nosotros con un objetivo. \n",
    "\n",
    "**Consejo:** Las funciones realizan acciones, por eso se recomienda que sus nombres sean verbos.\n",
    "\n",
    "\n",
    "**Estructura:**\n",
    "\n",
    "```python\n",
    "def nombre_funcion(argumentos de entrada):\n",
    "    # los dos puntos y la indentacion implican estar en la funcion\n",
    "    realiza acciones\n",
    "    return () # devuelve cierto valor\n",
    "```"
   ]
  },
  {
   "cell_type": "code",
   "execution_count": null,
   "id": "7e27085c",
   "metadata": {},
   "outputs": [],
   "source": [
    "print('hola')  # funcion interna"
   ]
  },
  {
   "cell_type": "code",
   "execution_count": null,
   "id": "9b262263",
   "metadata": {},
   "outputs": [],
   "source": [
    "type(print)"
   ]
  },
  {
   "cell_type": "code",
   "execution_count": null,
   "id": "a901b5ab",
   "metadata": {},
   "outputs": [],
   "source": [
    "# funcion custom\n",
    "\n",
    "def sumar(a,b):\n",
    "    return a+b"
   ]
  },
  {
   "cell_type": "code",
   "execution_count": null,
   "id": "04174c4d",
   "metadata": {},
   "outputs": [],
   "source": [
    "type(sumar)"
   ]
  },
  {
   "cell_type": "code",
   "execution_count": null,
   "id": "6529366e",
   "metadata": {},
   "outputs": [],
   "source": [
    "sumar(1,2)"
   ]
  },
  {
   "cell_type": "code",
   "execution_count": null,
   "id": "e2131c7c",
   "metadata": {},
   "outputs": [],
   "source": [
    "numero=sumar(2,3)\n",
    "\n",
    "print(numero)"
   ]
  },
  {
   "cell_type": "code",
   "execution_count": null,
   "id": "693587db",
   "metadata": {},
   "outputs": [],
   "source": [
    "type(numero)"
   ]
  },
  {
   "cell_type": "code",
   "execution_count": null,
   "id": "ab4fab15",
   "metadata": {},
   "outputs": [],
   "source": [
    "def sumar_2(a, b, c):\n",
    "    \n",
    "    results=[]\n",
    "    \n",
    "    suma=a+b\n",
    "    \n",
    "    for i in range(c):\n",
    "        print(i)\n",
    "        results.append(c**i * suma)\n",
    "        \n",
    "    return results "
   ]
  },
  {
   "cell_type": "code",
   "execution_count": null,
   "id": "c6fae877",
   "metadata": {},
   "outputs": [],
   "source": [
    "sumar_2(3, 5, 2)"
   ]
  },
  {
   "cell_type": "markdown",
   "id": "60092ab1",
   "metadata": {},
   "source": [
    "## CodeBars"
   ]
  },
  {
   "cell_type": "code",
   "execution_count": null,
   "id": "67988070",
   "metadata": {},
   "outputs": [],
   "source": [
    "# cargar datos\n",
    "#!pip install pandas\n",
    "\n",
    "import pandas as pd"
   ]
  },
  {
   "cell_type": "code",
   "execution_count": null,
   "id": "257e73a8",
   "metadata": {},
   "outputs": [],
   "source": [
    "data=pd.read_csv('data.csv')\n",
    "\n",
    "data.head()"
   ]
  },
  {
   "cell_type": "code",
   "execution_count": null,
   "id": "79632eac",
   "metadata": {},
   "outputs": [],
   "source": [
    "type(data)"
   ]
  },
  {
   "cell_type": "code",
   "execution_count": null,
   "id": "8e0c9fe0",
   "metadata": {},
   "outputs": [],
   "source": [
    "# exploracion \n",
    "\n",
    "data.info()"
   ]
  },
  {
   "cell_type": "code",
   "execution_count": null,
   "id": "f3e60f27",
   "metadata": {},
   "outputs": [],
   "source": [
    "data.brand.value_counts().plot(kind='bar', figsize=(15, 6), rot=45);"
   ]
  },
  {
   "cell_type": "code",
   "execution_count": null,
   "id": "e3c84729",
   "metadata": {},
   "outputs": [],
   "source": [
    "data[data.brand=='easy street'].color.value_counts().plot(kind='bar', figsize=(15, 6), rot=45);"
   ]
  },
  {
   "cell_type": "code",
   "execution_count": null,
   "id": "3efbeaed",
   "metadata": {},
   "outputs": [],
   "source": [
    "data[data.brand=='dr. scholls']['size'].value_counts().plot(kind='bar', figsize=(15, 6), rot=45);"
   ]
  },
  {
   "cell_type": "code",
   "execution_count": null,
   "id": "d684fcfb",
   "metadata": {},
   "outputs": [],
   "source": [
    "data[data.brand=='easy street'].price.value_counts().plot(kind='bar', figsize=(15, 6), rot=45);"
   ]
  },
  {
   "cell_type": "code",
   "execution_count": null,
   "id": "96da1a24",
   "metadata": {},
   "outputs": [],
   "source": [
    "# foto zapato\n",
    "\n",
    "from IPython.display import Image as PyImage\n",
    "\n",
    "PyImage(url=data.URL[0], width=300)  "
   ]
  },
  {
   "cell_type": "markdown",
   "id": "3e94f052",
   "metadata": {},
   "source": [
    "**Generador de codigos de barras**"
   ]
  },
  {
   "cell_type": "code",
   "execution_count": null,
   "id": "46f79d14",
   "metadata": {},
   "outputs": [],
   "source": [
    "#!pip install python-barcode\n",
    "\n",
    "from barcode import EAN13\n",
    "from barcode.writer import ImageWriter"
   ]
  },
  {
   "cell_type": "code",
   "execution_count": null,
   "id": "b2c3b61e",
   "metadata": {},
   "outputs": [],
   "source": [
    "# 10 imagenes\n",
    "\n",
    "for i in range(10):\n",
    "\n",
    "    with open('barcodes/code_{}.jpeg'.format(i), 'wb') as f:\n",
    "        EAN13(str(data.ean[i]), writer=ImageWriter()).write(f)"
   ]
  },
  {
   "cell_type": "code",
   "execution_count": null,
   "id": "0c0a516e",
   "metadata": {},
   "outputs": [],
   "source": [
    "data.ean[5]"
   ]
  },
  {
   "cell_type": "code",
   "execution_count": null,
   "id": "b63f40ea",
   "metadata": {},
   "outputs": [],
   "source": [
    "PyImage(url='barcodes/code_5.jpeg', width=300)   # un codigo de barras generado"
   ]
  },
  {
   "cell_type": "markdown",
   "id": "b0fbf475",
   "metadata": {},
   "source": [
    "### Lector codigos de barras\n",
    "\n",
    "https://pypi.org/project/pyzbar/"
   ]
  },
  {
   "cell_type": "code",
   "execution_count": null,
   "id": "5778218a",
   "metadata": {},
   "outputs": [],
   "source": [
    "#!apt install libzbar0   # para colab\n",
    "#brew install zbar.      # para mac\n",
    "#!pip install pyzbar\n",
    "#conda install -c conda-forge pyzbar\n",
    "\n",
    "from pyzbar.pyzbar import decode\n",
    "\n",
    "from PIL import Image"
   ]
  },
  {
   "cell_type": "code",
   "execution_count": null,
   "id": "293d30a2",
   "metadata": {},
   "outputs": [],
   "source": [
    "decode(Image.open('barcodes/code_5.jpeg'))[0][0][:-1]"
   ]
  },
  {
   "cell_type": "code",
   "execution_count": null,
   "id": "a743e0d7",
   "metadata": {},
   "outputs": [],
   "source": [
    "data[data.ean==797776110797]"
   ]
  },
  {
   "cell_type": "markdown",
   "id": "f4e58193",
   "metadata": {},
   "source": [
    "### Captura por webcam"
   ]
  },
  {
   "cell_type": "code",
   "execution_count": null,
   "id": "fc7d16eb",
   "metadata": {},
   "outputs": [],
   "source": [
    "#!pip install opencv-python\n",
    "\n",
    "import cv2\n",
    "import pylab as plt"
   ]
  },
  {
   "cell_type": "code",
   "execution_count": null,
   "id": "e91fa9e2",
   "metadata": {},
   "outputs": [],
   "source": [
    "# captura por camara\n",
    "\n",
    "cam=cv2.VideoCapture(0)\n",
    "while 1:\n",
    "    ret, frame=cam.read()\n",
    "    cv2.imshow('Captura', frame)\n",
    "\n",
    "    if ret==False: break\n",
    "\n",
    "    key=cv2.waitKey(1)\n",
    "\n",
    "    if key%256==27: break # tecla ESC\n",
    "\n",
    "    elif key%256==32: # SPACE\n",
    "        img_name='capturas/codigo.png'\n",
    "        cv2.imwrite(img_name, frame)\n",
    "        print ('Captura guardada\\n\\n')\n",
    "        break\n",
    "\n",
    "cam.release()\n",
    "cv2.destroyAllWindows()\n",
    "plt.imshow(plt.imread('capturas/codigo.png'));"
   ]
  },
  {
   "cell_type": "markdown",
   "id": "0665e023",
   "metadata": {},
   "source": [
    "# Proceso completo"
   ]
  },
  {
   "cell_type": "markdown",
   "id": "26308d70",
   "metadata": {},
   "source": [
    "**Funciones**"
   ]
  },
  {
   "cell_type": "code",
   "execution_count": null,
   "id": "bddc52ad",
   "metadata": {},
   "outputs": [],
   "source": [
    "# captura por camara\n",
    "\n",
    "def captura():\n",
    "    cam=cv2.VideoCapture(0)\n",
    "    while 1:\n",
    "        ret, frame=cam.read()\n",
    "        cv2.imshow('Captura', frame)\n",
    "        \n",
    "        if ret==False: break\n",
    "        \n",
    "        key=cv2.waitKey(1)\n",
    "        \n",
    "        if key%256==27: break # tecla ESC\n",
    "        \n",
    "        elif key%256==32: # SPACE\n",
    "            img_name='capturas/codigo.png'\n",
    "            cv2.imwrite(img_name, frame)\n",
    "            print ('Captura guardada\\n\\n')\n",
    "            break\n",
    "            \n",
    "    cam.release()\n",
    "    cv2.destroyAllWindows()\n",
    "    plt.imshow(plt.imread('capturas/codigo.png'));\n"
   ]
  },
  {
   "cell_type": "code",
   "execution_count": null,
   "id": "4dfb3cbc",
   "metadata": {},
   "outputs": [],
   "source": [
    "# decodifica codigo de barras\n",
    "\n",
    "def decodifica():\n",
    "    codigo=decode(Image.open('capturas/codigo.png'))[0][0]\n",
    "    return codigo"
   ]
  },
  {
   "cell_type": "code",
   "execution_count": null,
   "id": "c9aabe69",
   "metadata": {},
   "outputs": [],
   "source": [
    "# busqueda elemento en base de datos\n",
    "\n",
    "import ast\n",
    "import requests\n",
    "\n",
    "def elemento(df, codigo):\n",
    "    \n",
    "    elem=df.loc[df.ean==str(ast.literal_eval(codigo.decode('utf8')))[0:-1]]\n",
    "    \n",
    "    display(elem.index)\n",
    "\n",
    "    res=requests.get(elem.URL[elem.index[0]], stream=True)\n",
    "    img=Image.open(res.raw)\n",
    "\n",
    "    plt.imshow(img);\n",
    "    \n",
    "    return elem"
   ]
  },
  {
   "cell_type": "code",
   "execution_count": null,
   "id": "c1bc1d4a",
   "metadata": {},
   "outputs": [],
   "source": [
    "# busqueda de productos similares (brand, color, size, price)\n",
    "\n",
    "def busqueda_similares(df, elem, campo):\n",
    "    \n",
    "    productos=df.loc[df[campo]==elem[campo][elem.index[0]]]\n",
    "    \n",
    "    return productos"
   ]
  },
  {
   "cell_type": "code",
   "execution_count": null,
   "id": "c407833d",
   "metadata": {},
   "outputs": [],
   "source": [
    "# funcion para ver las fotos de los productos similares\n",
    "\n",
    "def fotos(productos):\n",
    "    \n",
    "    urls=productos.URL.tolist()\n",
    "    \n",
    "    for e in urls:\n",
    "        try:\n",
    "            res=requests.get(e, stream=True)\n",
    "            img=Image.open(res.raw)\n",
    "\n",
    "            plt.imshow(img)\n",
    "            plt.show();\n",
    "\n",
    "        except:\n",
    "            print('no hay foto')"
   ]
  },
  {
   "cell_type": "markdown",
   "id": "938825b9",
   "metadata": {},
   "source": [
    "**Captura por webcam**"
   ]
  },
  {
   "cell_type": "code",
   "execution_count": null,
   "id": "0296c0d6",
   "metadata": {},
   "outputs": [],
   "source": [
    "captura()   # captura el codigo de barras"
   ]
  },
  {
   "cell_type": "markdown",
   "id": "f6bce7bc",
   "metadata": {},
   "source": [
    "**Decodifica**"
   ]
  },
  {
   "cell_type": "code",
   "execution_count": null,
   "id": "f6205cbc",
   "metadata": {},
   "outputs": [],
   "source": [
    "codigo=decodifica()  # decodifica imagen codigo de barras\n",
    "\n",
    "codigo"
   ]
  },
  {
   "cell_type": "markdown",
   "id": "028c3f6d",
   "metadata": {},
   "source": [
    "**Elemento buscado**"
   ]
  },
  {
   "cell_type": "code",
   "execution_count": null,
   "id": "2d732f92",
   "metadata": {},
   "outputs": [],
   "source": [
    "elem=elemento(data, codigo)"
   ]
  },
  {
   "cell_type": "markdown",
   "id": "9324a74d",
   "metadata": {},
   "source": [
    "**Busquedas similares**"
   ]
  },
  {
   "cell_type": "code",
   "execution_count": null,
   "id": "d92d7b47",
   "metadata": {},
   "outputs": [],
   "source": [
    "busqueda_similares(data, elem, 'brand').head()"
   ]
  },
  {
   "cell_type": "code",
   "execution_count": null,
   "id": "9a2a9f0c",
   "metadata": {},
   "outputs": [],
   "source": [
    "busqueda_similares(data, elem, 'price')"
   ]
  },
  {
   "cell_type": "code",
   "execution_count": null,
   "id": "55d922dd",
   "metadata": {},
   "outputs": [],
   "source": [
    "busqueda_similares(data, elem, 'color').head()"
   ]
  },
  {
   "cell_type": "code",
   "execution_count": null,
   "id": "b023b93f",
   "metadata": {},
   "outputs": [],
   "source": [
    "productos=busqueda_similares(data, elem, 'size')\n",
    "\n",
    "display(productos.head())\n",
    "\n",
    "fotos(productos.iloc[7:9])"
   ]
  },
  {
   "cell_type": "markdown",
   "id": "5b10c14f",
   "metadata": {},
   "source": [
    "## Feedback\n",
    "\n",
    "https://forms.gle/SmudEXzH1FoBfZAz7\n",
    "    \n",
    "![qr](images/feedback.png)   "
   ]
  }
 ],
 "metadata": {
  "finalized": {
   "timestamp": 1646322869366,
   "trusted": true
  },
  "kernelspec": {
   "display_name": "clase",
   "language": "python",
   "name": "clase"
  },
  "language_info": {
   "codemirror_mode": {
    "name": "ipython",
    "version": 3
   },
   "file_extension": ".py",
   "mimetype": "text/x-python",
   "name": "python",
   "nbconvert_exporter": "python",
   "pygments_lexer": "ipython3",
   "version": "3.8.8"
  }
 },
 "nbformat": 4,
 "nbformat_minor": 5
}
